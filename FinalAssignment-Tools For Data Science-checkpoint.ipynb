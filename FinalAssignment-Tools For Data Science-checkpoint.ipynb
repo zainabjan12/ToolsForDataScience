{
 "cells": [
  {
   "cell_type": "markdown",
   "id": "57cdd669",
   "metadata": {},
   "source": [
    "<center>\n",
    "    <img src=\"https://cf-courses-data.s3.us.cloud-object-storage.appdomain.cloud/IBMDeveloperSkillsNetwork-DS0105EN-SkillsNetwork/labs/Module2/images/SN_web_lightmode.png\" width=\"300\" alt=\"cognitiveclass.ai logo\">\n",
    "</center>\n"
   ]
  },
  {
   "cell_type": "markdown",
   "id": "c0d84b0c",
   "metadata": {},
   "source": [
    "#### Add your code below following the instructions given in the course\n"
   ]
  },
  {
   "cell_type": "markdown",
   "id": "e6e318f2",
   "metadata": {},
   "source": [
    "#                                          Tools for Data Science "
   ]
  },
  {
   "cell_type": "markdown",
   "id": "b9c97bcb",
   "metadata": {},
   "source": [
    "## Delving Deeper into the World of Data Science: A Comprehensive Exploration of Techniques, Tools, and Applications\n"
   ]
  },
  {
   "cell_type": "markdown",
   "id": "6110415d",
   "metadata": {},
   "source": [
    "# Introduction\n",
    "\n",
    "Welcome to this Jupyter Notebook! In this notebook, we'll cover various data science concepts and coding exercises. Our objectives include:\n",
    "\n",
    "- Listing Data Science Languages \n",
    "- Listing Data Science Libraries\n",
    "- Showcasing Data Science Tools \n",
    "- Introducing Arithmetic Expressions \n",
    "- Performing Arithmetic Operations \n",
    "- Author Information \n",
    "\n"
   ]
  },
  {
   "cell_type": "markdown",
   "id": "8d981643",
   "metadata": {},
   "source": [
    "## Data Science Languages\n",
    "\n",
    "When it comes to data science, various programming languages are widely used for data analysis, machine learning, and statistical modeling. Here are some prominent data science languages:\n",
    "\n",
    "1. **Python**\n",
    "2. **R**\n",
    "3. **Julia**\n",
    "4. **SQL**\n",
    "5. **Java**\n",
    "6. **Scala**\n",
    "7. **C++**\n",
    "8. **PHP**\n",
    "9. **Ruby**\n",
    "10. **Visual basic**\n",
    "11. **JavaScript**\n",
    "\n",
    "\n",
    "These languages serve as powerful tools in the field of data science, each with its unique strengths and capabilities.\n"
   ]
  },
  {
   "cell_type": "markdown",
   "id": "6592c644",
   "metadata": {},
   "source": [
    "## Data Science Libraries\n",
    "\n",
    "### Python\n",
    "\n",
    "Python offers a rich ecosystem of libraries and packages for data science tasks:\n",
    "\n",
    "1. **Pandas**\n",
    "2. **NumPy**\n",
    "3. **Matplotlib**\n",
    "4. **Seaborn**\n",
    "5. **Scikit-learn**\n",
    "6. **keras**\n",
    "7. **TensorFlow**\n",
    "8. **PyTorch**\n",
    "9. **Seaborn**\n",
    "10. **Apache Spark**\n",
    "\n",
    "\n",
    "### R\n",
    "\n",
    "R also has a strong collection of libraries for data analysis and statistics:\n",
    "\n",
    "1. **dplyr**\n",
    "2. **ggplot2**\n",
    "3. **caret**\n",
    "4. **tidyr**\n",
    "5. **lubridate**\n",
    "\n",
    "These libraries, available in both Python and R, empower data scientists to perform a wide range of tasks, from data cleaning and exploration to machine learning and visualization.\n"
   ]
  },
  {
   "cell_type": "markdown",
   "id": "ae7724d5",
   "metadata": {},
   "source": [
    "## Data Science Tools\n",
    "\n",
    "| Tool            | Description                                                        |\n",
    "|-----------------|--------------------------------------------------------------------|\n",
    "| **Jupyter**      | Interactive notebook environment for data analysis.                 |\n",
    "| **VS Code**      | Integrated development environment (IDE) for coding, including data science. |\n",
    "| **GitHub**       | Version control platform for collaboration and code management.     |\n",
    "| **SQL**          | Language for querying and managing relational databases.            |\n",
    "| **TensorFlow**   | Machine learning library for building and training neural networks. |\n",
    "| **Power BI**     | Business analytics tool for data visualization and sharing insights. |\n",
    "| **RStudio**      | Integrated development environment for R programming.                |\n",
    "| **PyCharm**      | Python-specific IDE for data science and machine learning.          |\n",
    "| **Anaconda**     | Distribution of Python and R programming languages for data science, including package management and environments. |\n",
    "| **Spyder**       | Open-source Python IDE designed for scientific and data analysis.   |\n",
    "| **Zeppelin**     | Web-based notebook for data exploration, analysis, and visualization. |\n"
   ]
  },
  {
   "cell_type": "markdown",
   "id": "90aa5b13",
   "metadata": {},
   "source": [
    "## Arithmetic Expression Examples\n",
    "\n",
    "In this section, we will explore basic arithmetic expressions and examples to understand how mathematical operations are performed in programming. These fundamental operations include addition, subtraction, multiplication, division, and more. Understanding these expressions is crucial for various data science and computational tasks.\n",
    "\n",
    "Let's dive into some practical examples to illustrate these concepts.\n"
   ]
  },
  {
   "cell_type": "code",
   "execution_count": 1,
   "id": "8640cc16",
   "metadata": {},
   "outputs": [
    {
     "data": {
      "text/plain": [
       "2"
      ]
     },
     "execution_count": 1,
     "metadata": {},
     "output_type": "execute_result"
    }
   ],
   "source": [
    "1+1"
   ]
  },
  {
   "cell_type": "code",
   "execution_count": 2,
   "id": "ed5443d2",
   "metadata": {},
   "outputs": [
    {
     "data": {
      "text/plain": [
       "32"
      ]
     },
     "execution_count": 2,
     "metadata": {},
     "output_type": "execute_result"
    }
   ],
   "source": [
    "a=4*8\n",
    "a"
   ]
  },
  {
   "cell_type": "code",
   "execution_count": 3,
   "id": "8aada647",
   "metadata": {},
   "outputs": [
    {
     "data": {
      "text/plain": [
       "3.2"
      ]
     },
     "execution_count": 3,
     "metadata": {},
     "output_type": "execute_result"
    }
   ],
   "source": [
    "a/10"
   ]
  },
  {
   "cell_type": "markdown",
   "id": "cc69648d",
   "metadata": {},
   "source": [
    "## Create a code cell to multiply and add numbers. "
   ]
  },
  {
   "cell_type": "code",
   "execution_count": 5,
   "id": "0ee96e49",
   "metadata": {},
   "outputs": [
    {
     "data": {
      "text/plain": [
       "(15, 8)"
      ]
     },
     "execution_count": 5,
     "metadata": {},
     "output_type": "execute_result"
    }
   ],
   "source": [
    "# Multiply and add numbers\n",
    "num1 = 5\n",
    "num2 = 3\n",
    "\n",
    "# Multiply\n",
    "result_multiply = num1 * num2\n",
    "\n",
    "# Add\n",
    "result_add = num1 + num2\n",
    "\n",
    "result_multiply, result_add\n"
   ]
  },
  {
   "cell_type": "markdown",
   "id": "4f8d7820",
   "metadata": {},
   "source": [
    "## Create a code cell to convert minutes to hours"
   ]
  },
  {
   "cell_type": "code",
   "execution_count": 6,
   "id": "207e187d",
   "metadata": {},
   "outputs": [
    {
     "data": {
      "text/plain": [
       "2.0"
      ]
     },
     "execution_count": 6,
     "metadata": {},
     "output_type": "execute_result"
    }
   ],
   "source": [
    "# Convert minutes to hours\n",
    "minutes = 120\n",
    "\n",
    "# Calculate hours\n",
    "hours = minutes / 60\n",
    "\n",
    "hours\n"
   ]
  },
  {
   "cell_type": "markdown",
   "id": "08154a5c",
   "metadata": {},
   "source": [
    "## Objectives\n",
    "\n",
    "In this notebook, we aim to accomplish the following objectives by adding comments,creating markdowns,adding ordered and unordered lists and formatting and styling:\n",
    "\n",
    "1. **Listing Data Science Languages** (Exercise 4): We will list common programming languages used in data science.\n",
    "\n",
    "2. **Listing Data Science Libraries** (Exercise 5): We'll showcase essential libraries used in data analysis and machine learning in both Python and R.\n",
    "\n",
    "3. **Data Science Tools Table** (Exercise 6): We will create a table listing various tools that are invaluable for data scientists.\n",
    "\n",
    "4. **Arithmetic Expression Examples** (Exercise 7): We'll introduce and provide examples of basic arithmetic expressions and operations.\n",
    "\n",
    "5. **Multiplication and Addition** (Exercise 8): We'll demonstrate how to multiply and add numbers in a code cell.\n",
    "\n",
    "6. **Conversion** (Exercise 9): We'll show how to convert minutes to hours in another code cell.\n",
    "\n",
    "7. **Author Information** (Exercise 11): You'll find information about the author of this notebook.\n",
    "\n",
    "8. **Sharing via GitHub** (Exercise 12): Learn how to share this notebook with others using GitHub.\n",
    "\n",
    "9. **Taking a Screenshot** (Exercise 13): We'll conclude by capturing a screenshot of the first page of this notebook.\n",
    "\n",
    "\n",
    "\n",
    "\n"
   ]
  },
  {
   "cell_type": "markdown",
   "id": "41fb05ec",
   "metadata": {},
   "source": [
    "## Author\n",
    "\n",
    "- Author: Zainab Jan\n"
   ]
  },
  {
   "cell_type": "markdown",
   "id": "447ae1a8",
   "metadata": {},
   "source": [
    "# Sharing a Jupyter Notebook on GitHub\n",
    "\n",
    "To share your Jupyter Notebook through GitHub, follow these steps:\n",
    "\n",
    "1. **Create a GitHub Account**:\n",
    "   - If you don't have a GitHub account, [sign up](https://github.com/join) for one.\n",
    "\n",
    "2. **Create a New Repository**:\n",
    "   - Log in to your GitHub account.\n",
    "   - Click the \"+\" icon in the top-right corner and select \"New repository.\"\n",
    "   - Fill in the repository name, description, and settings (public or private).\n",
    "\n",
    "3. **Push Your Notebook to GitHub**:\n",
    "   - If not in a Git repository, initialize one in the notebook's directory:\n",
    "     ```bash\n",
    "     git init\n",
    "     ```\n",
    "\n",
    "   - Add and commit your Jupyter Notebook:\n",
    "     ```bash\n",
    "     git add your_notebook.ipynb\n",
    "     git commit -m \"Initial commit\"\n",
    "     ```\n",
    "\n",
    "   - Link your local repository to GitHub:\n",
    "     ```bash\n",
    "     git remote add origin https://github.com/yourusername/your-repo-name.git\n",
    "     ```\n",
    "\n",
    "   - Push your notebook to GitHub:\n",
    "     ```bash\n",
    "     git push -u origin main\n",
    "     ```\n",
    "\n",
    "4. **Verify on GitHub**:\n",
    "   - Visit your GitHub repository's page, and you should see your Jupyter Notebook listed.\n",
    "\n",
    "5. **Share the Link**:\n",
    "   - To share your notebook, provide the link to your GitHub repository. Others can access and view it there.\n",
    "\n",
    "\n",
    "That's it! Your Jupyter Notebook is now hosted on GitHub and can be easily shared with others.\n"
   ]
  },
  {
   "cell_type": "markdown",
   "id": "f0b8227a",
   "metadata": {},
   "source": [
    "# My GitHub Repository\n",
    "\n",
    "I've created a GitHub repository where you can find various tools and resources related to data science:\n",
    "\n",
    "[![My GitHub Repository](https://img.shields.io/badge/Tools%20for%20Data%20Science-Visit%20Repository-brightgreen)](https://github.com/zainabjan12/ToolsForDataScience)\n",
    "\n",
    "Feel free to explore the contents and use the resources available in this repository. If you have any questions or feedback, please don't hesitate to reach out.\n"
   ]
  },
  {
   "cell_type": "markdown",
   "id": "33d51a5f",
   "metadata": {},
   "source": [
    "![Screenshot of the First Page](github_ss.PNG)\n",
    "\n",
    "This screenshot provides an overview of the first page of the notebook.\n"
   ]
  },
  {
   "cell_type": "code",
   "execution_count": null,
   "id": "59c75126",
   "metadata": {},
   "outputs": [],
   "source": []
  }
 ],
 "metadata": {
  "kernelspec": {
   "display_name": "Python 3 (ipykernel)",
   "language": "python",
   "name": "python3"
  },
  "language_info": {
   "codemirror_mode": {
    "name": "ipython",
    "version": 3
   },
   "file_extension": ".py",
   "mimetype": "text/x-python",
   "name": "python",
   "nbconvert_exporter": "python",
   "pygments_lexer": "ipython3",
   "version": "3.9.13"
  }
 },
 "nbformat": 4,
 "nbformat_minor": 5
}
